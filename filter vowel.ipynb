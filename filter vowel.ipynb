{
 "cells": [
  {
   "cell_type": "code",
   "execution_count": 3,
   "id": "3ed7c3da",
   "metadata": {},
   "outputs": [
    {
     "data": {
      "text/plain": [
       "['a', 'e', 'i']"
      ]
     },
     "execution_count": 3,
     "metadata": {},
     "output_type": "execute_result"
    }
   ],
   "source": [
    "list1=['a','b','c','d','e','f','g','h','i','j','k','l']\n",
    "def vowel(list1):\n",
    "    if(list1=='a' or list1=='e' or list1=='i' or list1=='o' or list1=='u'):\n",
    "        return True\n",
    "    return False\n",
    "vowel=filter(vowel,list1)\n",
    "list(vowel)"
   ]
  },
  {
   "cell_type": "code",
   "execution_count": null,
   "id": "d0868033",
   "metadata": {},
   "outputs": [],
   "source": []
  }
 ],
 "metadata": {
  "kernelspec": {
   "display_name": "Python 3 (ipykernel)",
   "language": "python",
   "name": "python3"
  },
  "language_info": {
   "codemirror_mode": {
    "name": "ipython",
    "version": 3
   },
   "file_extension": ".py",
   "mimetype": "text/x-python",
   "name": "python",
   "nbconvert_exporter": "python",
   "pygments_lexer": "ipython3",
   "version": "3.10.9"
  }
 },
 "nbformat": 4,
 "nbformat_minor": 5
}
