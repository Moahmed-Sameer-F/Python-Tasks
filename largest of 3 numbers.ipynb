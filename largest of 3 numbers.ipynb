{
 "cells": [
  {
   "cell_type": "code",
   "execution_count": 5,
   "id": "f51249db",
   "metadata": {},
   "outputs": [
    {
     "name": "stdout",
     "output_type": "stream",
     "text": [
      "Enter num: 1\n",
      "Enter num: 4\n",
      "Enter num: 4\n"
     ]
    }
   ],
   "source": [
    "a=int(input(\"Enter num: \"))\n",
    "b=int(input(\"Enter num: \"))\n",
    "c=int(input(\"Enter num: \"))"
   ]
  },
  {
   "cell_type": "code",
   "execution_count": 6,
   "id": "403b539b",
   "metadata": {},
   "outputs": [
    {
     "name": "stdout",
     "output_type": "stream",
     "text": [
      "4 is largest\n"
     ]
    }
   ],
   "source": [
    "if(a>b & a>c):\n",
    "    print(a,\"is largest\")\n",
    "elif(b>a & b>c):\n",
    "    print(b,\"is largest\")\n",
    "else:\n",
    "    print(c,\"is largest\")\n",
    "\n",
    "    "
   ]
  },
  {
   "cell_type": "code",
   "execution_count": null,
   "id": "d2c75a02",
   "metadata": {},
   "outputs": [],
   "source": []
  }
 ],
 "metadata": {
  "kernelspec": {
   "display_name": "Python 3 (ipykernel)",
   "language": "python",
   "name": "python3"
  },
  "language_info": {
   "codemirror_mode": {
    "name": "ipython",
    "version": 3
   },
   "file_extension": ".py",
   "mimetype": "text/x-python",
   "name": "python",
   "nbconvert_exporter": "python",
   "pygments_lexer": "ipython3",
   "version": "3.10.9"
  }
 },
 "nbformat": 4,
 "nbformat_minor": 5
}
