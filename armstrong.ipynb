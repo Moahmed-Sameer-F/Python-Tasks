{
 "cells": [
  {
   "cell_type": "code",
   "execution_count": 5,
   "id": "5943b1af",
   "metadata": {},
   "outputs": [
    {
     "name": "stdout",
     "output_type": "stream",
     "text": [
      "Enter a number: 8208\n",
      "4 \n",
      "\n",
      "8208\n",
      "The number is armstrong number\n"
     ]
    }
   ],
   "source": [
    "num=int(input(\"Enter a number: \"))\n",
    "check=num\n",
    "length=len(str(num))\n",
    "print(length,\"\\n\")\n",
    "\n",
    "armstrong=0\n",
    "for i in range(0,length,1):\n",
    "    rem=num%10\n",
    "    num=num//10\n",
    "    armstrong=armstrong+rem**length\n",
    "print(armstrong)\n",
    "if(armstrong==check):\n",
    "    print(\"The number is armstrong number\")\n",
    "else:\n",
    "    print(\"The number is not armstrong number\")\n",
    "\n",
    "    \n",
    "\n",
    "\n"
   ]
  },
  {
   "cell_type": "code",
   "execution_count": null,
   "id": "ed89f0a3",
   "metadata": {},
   "outputs": [],
   "source": []
  },
  {
   "cell_type": "code",
   "execution_count": null,
   "id": "1be7b824",
   "metadata": {},
   "outputs": [],
   "source": []
  }
 ],
 "metadata": {
  "kernelspec": {
   "display_name": "Python 3 (ipykernel)",
   "language": "python",
   "name": "python3"
  },
  "language_info": {
   "codemirror_mode": {
    "name": "ipython",
    "version": 3
   },
   "file_extension": ".py",
   "mimetype": "text/x-python",
   "name": "python",
   "nbconvert_exporter": "python",
   "pygments_lexer": "ipython3",
   "version": "3.10.9"
  }
 },
 "nbformat": 4,
 "nbformat_minor": 5
}
