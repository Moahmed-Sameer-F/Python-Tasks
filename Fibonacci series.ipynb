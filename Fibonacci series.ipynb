{
 "cells": [
  {
   "cell_type": "code",
   "execution_count": 11,
   "id": "7298a8b4",
   "metadata": {},
   "outputs": [
    {
     "name": "stdout",
     "output_type": "stream",
     "text": [
      "Enter number of terms: 5\n",
      "Fibonacci series: \n",
      "0\n",
      "1\n",
      "1\n",
      "2\n",
      "3\n"
     ]
    }
   ],
   "source": [
    "num=int(input(\"Enter number of terms: \"))\n",
    "term1=0\n",
    "term2=1\n",
    "\n",
    "if(num==1):\n",
    "    print(\"Fibonnaci series: \")\n",
    "    print(term1)\n",
    "elif(num>1):\n",
    "    print(\"Fibonacci series: \")\n",
    "    print(term1)   \n",
    "    for i in range(1,num):\n",
    "        print(term2)\n",
    "        temp=term1+term2\n",
    "        term1=term2\n",
    "        term2=temp\n",
    "else:\n",
    "    print(\"Enter positive integer\")"
   ]
  },
  {
   "cell_type": "code",
   "execution_count": null,
   "id": "fae67b78",
   "metadata": {},
   "outputs": [],
   "source": []
  },
  {
   "cell_type": "code",
   "execution_count": null,
   "id": "96ce3066",
   "metadata": {},
   "outputs": [],
   "source": []
  }
 ],
 "metadata": {
  "kernelspec": {
   "display_name": "Python 3 (ipykernel)",
   "language": "python",
   "name": "python3"
  },
  "language_info": {
   "codemirror_mode": {
    "name": "ipython",
    "version": 3
   },
   "file_extension": ".py",
   "mimetype": "text/x-python",
   "name": "python",
   "nbconvert_exporter": "python",
   "pygments_lexer": "ipython3",
   "version": "3.10.9"
  }
 },
 "nbformat": 4,
 "nbformat_minor": 5
}
