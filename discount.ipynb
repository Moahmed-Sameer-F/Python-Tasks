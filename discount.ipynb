{
 "cells": [
  {
   "cell_type": "code",
   "execution_count": 6,
   "id": "338d65cd",
   "metadata": {},
   "outputs": [
    {
     "name": "stdout",
     "output_type": "stream",
     "text": [
      "Enter purchased amount: 4000\n",
      "Bill\n",
      "Purchased amount:  4000\n",
      "Discount amout:  400.0\n",
      "Total amount:  3600.0\n"
     ]
    }
   ],
   "source": [
    "purchase_amt=int(input(\"Enter purchased amount: \"))\n",
    "\n",
    "if(purchase_amt>=6000):\n",
    "    discount_amt=.20*purchase_amt\n",
    "    print(\"Bill\")\n",
    "    print(\"Purchased amount: \",purchase_amt)\n",
    "    print(\"Discount amout: \",discount_amt)\n",
    "    print(\"Total amount: \",purchase_amt-discount_amt)\n",
    "elif(purchase_amt>=3000):\n",
    "    discount_amt=.10*purchase_amt\n",
    "    print(\"Bill\")\n",
    "    print(\"Purchased amount: \",purchase_amt)\n",
    "    print(\"Discount amout: \",discount_amt)\n",
    "    print(\"Total amount: \",purchase_amt-discount_amt)\n",
    "else:\n",
    "    print(\"Bill\")\n",
    "    print(\"Purchased amount: \",purchase_amt)\n",
    "    print(\"Discount amout: \",0)\n",
    "    print(\"Total amount: \",purchase_amt-discount_amt)\n",
    "\n"
   ]
  },
  {
   "cell_type": "code",
   "execution_count": null,
   "id": "db190d03",
   "metadata": {},
   "outputs": [],
   "source": []
  },
  {
   "cell_type": "code",
   "execution_count": null,
   "id": "a0de636a",
   "metadata": {},
   "outputs": [],
   "source": []
  }
 ],
 "metadata": {
  "kernelspec": {
   "display_name": "Python 3 (ipykernel)",
   "language": "python",
   "name": "python3"
  },
  "language_info": {
   "codemirror_mode": {
    "name": "ipython",
    "version": 3
   },
   "file_extension": ".py",
   "mimetype": "text/x-python",
   "name": "python",
   "nbconvert_exporter": "python",
   "pygments_lexer": "ipython3",
   "version": "3.10.9"
  }
 },
 "nbformat": 4,
 "nbformat_minor": 5
}
