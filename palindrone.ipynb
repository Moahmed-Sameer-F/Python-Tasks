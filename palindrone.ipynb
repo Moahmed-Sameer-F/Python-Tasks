{
 "cells": [
  {
   "cell_type": "code",
   "execution_count": 11,
   "id": "5d9f1c13",
   "metadata": {},
   "outputs": [
    {
     "name": "stdout",
     "output_type": "stream",
     "text": [
      "Enter a word: hlo\n"
     ]
    }
   ],
   "source": [
    "str=input(\"Enter a word: \")"
   ]
  },
  {
   "cell_type": "code",
   "execution_count": 12,
   "id": "47e18207",
   "metadata": {},
   "outputs": [
    {
     "name": "stdout",
     "output_type": "stream",
     "text": [
      "Reversed string , olh\n",
      "Not a palindrone \n"
     ]
    }
   ],
   "source": [
    "reverse=str[::-1]\n",
    "print(\"Reversed string ,\",reverse)\n",
    "\n",
    "if(str==reverse):\n",
    "    print(\"palindrone\")\n",
    "else:\n",
    "    print(\"Not a palindrone \")"
   ]
  },
  {
   "cell_type": "code",
   "execution_count": null,
   "id": "30f462e6",
   "metadata": {},
   "outputs": [],
   "source": []
  },
  {
   "cell_type": "code",
   "execution_count": null,
   "id": "112b4702",
   "metadata": {},
   "outputs": [],
   "source": []
  }
 ],
 "metadata": {
  "kernelspec": {
   "display_name": "Python 3 (ipykernel)",
   "language": "python",
   "name": "python3"
  },
  "language_info": {
   "codemirror_mode": {
    "name": "ipython",
    "version": 3
   },
   "file_extension": ".py",
   "mimetype": "text/x-python",
   "name": "python",
   "nbconvert_exporter": "python",
   "pygments_lexer": "ipython3",
   "version": "3.10.9"
  }
 },
 "nbformat": 4,
 "nbformat_minor": 5
}
