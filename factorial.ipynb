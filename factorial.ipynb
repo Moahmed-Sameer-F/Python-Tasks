{
 "cells": [
  {
   "cell_type": "code",
   "execution_count": 7,
   "id": "afd57dee",
   "metadata": {},
   "outputs": [
    {
     "name": "stdout",
     "output_type": "stream",
     "text": [
      "Enter a number: 5\n",
      "Factorial of  5 is  120\n"
     ]
    }
   ],
   "source": [
    "num=int(input(\"Enter a number: \"))\n",
    "factorial=1\n",
    "\n",
    "if(num>1):\n",
    "    for i in range(2,num+1,1):\n",
    "        factorial=factorial*i\n",
    "    print(\"Factorial of \",num,\"is \",factorial)\n",
    "elif(num==0 or num==1):\n",
    "        print(\"Factorial of \",num,\"is \",factorial)\n",
    "else:\n",
    "        print(\"Factorial doesn't exist for negative integers \")\n",
    "    "
   ]
  },
  {
   "cell_type": "code",
   "execution_count": null,
   "id": "7cb39475",
   "metadata": {},
   "outputs": [],
   "source": []
  },
  {
   "cell_type": "code",
   "execution_count": null,
   "id": "d2ebd75c",
   "metadata": {},
   "outputs": [],
   "source": []
  }
 ],
 "metadata": {
  "kernelspec": {
   "display_name": "Python 3 (ipykernel)",
   "language": "python",
   "name": "python3"
  },
  "language_info": {
   "codemirror_mode": {
    "name": "ipython",
    "version": 3
   },
   "file_extension": ".py",
   "mimetype": "text/x-python",
   "name": "python",
   "nbconvert_exporter": "python",
   "pygments_lexer": "ipython3",
   "version": "3.10.9"
  }
 },
 "nbformat": 4,
 "nbformat_minor": 5
}
